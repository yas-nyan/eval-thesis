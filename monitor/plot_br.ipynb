{
 "cells": [
  {
   "cell_type": "code",
   "execution_count": 1,
   "metadata": {},
   "outputs": [],
   "source": [
    "import pandas as pd\n",
    "from datetime import datetime\n",
    "import matplotlib.pyplot as plt\n"
   ]
  },
  {
   "cell_type": "code",
   "execution_count": 45,
   "metadata": {},
   "outputs": [],
   "source": [
    "hosts = [f\"br{str(i).zfill(2)}\" for i in range(1,31)]\n",
    "#filepaths = [ f\"backup/deploy_test/{host}.csv\" for host in hosts]\n",
    "filepaths = [ f\"backup/route_1000_test/{host}.csv\" for host in hosts]"
   ]
  },
  {
   "cell_type": "code",
   "execution_count": 46,
   "metadata": {},
   "outputs": [],
   "source": [
    "def clean_and_addheader(filepath):\n",
    "    new_lines=[]\n",
    "    with open(filepath) as f:\n",
    "        lines = f.readlines()\n",
    "        started_time = float(lines[0].strip().split(\",\")[0])\n",
    "        for line in lines:\n",
    "            striped_words = line.strip().split(\",\")\n",
    "            if len(striped_words) != 3:\n",
    "                continue\n",
    "            try:\n",
    "                this_time = round(float(striped_words[0]),1) # 小数点第一位で四捨五入\n",
    "            except:\n",
    "                continue # 時間以外のものが混ざるなら殺す\n",
    "            striped_words[0] = this_time\n",
    "            striped_words[1] = int(striped_words[1])\n",
    "            striped_words[2] = int(striped_words[2])\n",
    "            new_lines.append(striped_words)\n",
    "    return new_lines"
   ]
  },
  {
   "cell_type": "code",
   "execution_count": null,
   "metadata": {},
   "outputs": [],
   "source": []
  },
  {
   "cell_type": "code",
   "execution_count": null,
   "metadata": {},
   "outputs": [],
   "source": []
  },
  {
   "cell_type": "code",
   "execution_count": 33,
   "metadata": {},
   "outputs": [],
   "source": [
    "# 実験開始時刻を追加\n",
    "start_time = 1577967057 + 10\n",
    "#start_time = 1577967148\n",
    "end_time = 1577967272\n",
    "\n"
   ]
  },
  {
   "cell_type": "code",
   "execution_count": 56,
   "metadata": {},
   "outputs": [],
   "source": [
    "dfs = []\n",
    "# キレイにしてpandasに挿入\n",
    "for index, filepath in enumerate(filepaths):\n",
    "    host = hosts[index]\n",
    "    df = pd.DataFrame(clean_and_addheader(filepath),columns=[\"time\",f\"{host}_gobgp\",f\"{host}_jool\"])\n",
    "    #selected = df.query(f\"time >= {start_time}\")\n",
    "    #selected[\"time\"] = selected[\"time\"] - start_time\n",
    "    selected.set_index(\"time\")\n",
    "    dfs.append(selected)\n",
    "\n",
    "merged = pd.concat(dfs,sort=True)    \n",
    "# merged[\"time\"] = pd.to_datetime(merged['time'].astype(float), unit='s')\n",
    "merged = merged.sort_values(\"time\")\n",
    "merged = merged.fillna(method='ffill')\n",
    "merged = merged.reset_index(drop=True)\n",
    "merged = merged.groupby('time').mean()"
   ]
  },
  {
   "cell_type": "code",
   "execution_count": 57,
   "metadata": {},
   "outputs": [
    {
     "data": {
      "text/html": [
       "<div>\n",
       "<style scoped>\n",
       "    .dataframe tbody tr th:only-of-type {\n",
       "        vertical-align: middle;\n",
       "    }\n",
       "\n",
       "    .dataframe tbody tr th {\n",
       "        vertical-align: top;\n",
       "    }\n",
       "\n",
       "    .dataframe thead th {\n",
       "        text-align: right;\n",
       "    }\n",
       "</style>\n",
       "<table border=\"1\" class=\"dataframe\">\n",
       "  <thead>\n",
       "    <tr style=\"text-align: right;\">\n",
       "      <th></th>\n",
       "      <th>br30_gobgp</th>\n",
       "      <th>br30_jool</th>\n",
       "    </tr>\n",
       "    <tr>\n",
       "      <th>time</th>\n",
       "      <th></th>\n",
       "      <th></th>\n",
       "    </tr>\n",
       "  </thead>\n",
       "  <tbody>\n",
       "    <tr>\n",
       "      <th>0.0</th>\n",
       "      <td>0</td>\n",
       "      <td>0</td>\n",
       "    </tr>\n",
       "    <tr>\n",
       "      <th>0.2</th>\n",
       "      <td>0</td>\n",
       "      <td>0</td>\n",
       "    </tr>\n",
       "    <tr>\n",
       "      <th>0.5</th>\n",
       "      <td>0</td>\n",
       "      <td>0</td>\n",
       "    </tr>\n",
       "    <tr>\n",
       "      <th>0.7</th>\n",
       "      <td>0</td>\n",
       "      <td>0</td>\n",
       "    </tr>\n",
       "    <tr>\n",
       "      <th>0.9</th>\n",
       "      <td>0</td>\n",
       "      <td>0</td>\n",
       "    </tr>\n",
       "    <tr>\n",
       "      <th>...</th>\n",
       "      <td>...</td>\n",
       "      <td>...</td>\n",
       "    </tr>\n",
       "    <tr>\n",
       "      <th>217.2</th>\n",
       "      <td>0</td>\n",
       "      <td>0</td>\n",
       "    </tr>\n",
       "    <tr>\n",
       "      <th>217.4</th>\n",
       "      <td>0</td>\n",
       "      <td>0</td>\n",
       "    </tr>\n",
       "    <tr>\n",
       "      <th>217.6</th>\n",
       "      <td>0</td>\n",
       "      <td>0</td>\n",
       "    </tr>\n",
       "    <tr>\n",
       "      <th>217.8</th>\n",
       "      <td>0</td>\n",
       "      <td>0</td>\n",
       "    </tr>\n",
       "    <tr>\n",
       "      <th>218.0</th>\n",
       "      <td>0</td>\n",
       "      <td>0</td>\n",
       "    </tr>\n",
       "  </tbody>\n",
       "</table>\n",
       "<p>992 rows × 2 columns</p>\n",
       "</div>"
      ],
      "text/plain": [
       "       br30_gobgp  br30_jool\n",
       "time                        \n",
       "0.0             0          0\n",
       "0.2             0          0\n",
       "0.5             0          0\n",
       "0.7             0          0\n",
       "0.9             0          0\n",
       "...           ...        ...\n",
       "217.2           0          0\n",
       "217.4           0          0\n",
       "217.6           0          0\n",
       "217.8           0          0\n",
       "218.0           0          0\n",
       "\n",
       "[992 rows x 2 columns]"
      ]
     },
     "execution_count": 57,
     "metadata": {},
     "output_type": "execute_result"
    }
   ],
   "source": [
    "merged"
   ]
  },
  {
   "cell_type": "code",
   "execution_count": 48,
   "metadata": {},
   "outputs": [],
   "source": [
    "# 300インデックスまでは消す\n",
    "make_sense_df = merged"
   ]
  },
  {
   "cell_type": "code",
   "execution_count": 49,
   "metadata": {},
   "outputs": [],
   "source": [
    "make_sense_df.to_csv(\"docker_120.csv\")"
   ]
  },
  {
   "cell_type": "code",
   "execution_count": 50,
   "metadata": {},
   "outputs": [],
   "source": [
    "coluｍns_j = [f\"{host}_jool\" for host in hosts ]\n",
    "coluｍns_b = [f\"{host}_gobgp\" for host in hosts ]"
   ]
  },
  {
   "cell_type": "code",
   "execution_count": 58,
   "metadata": {},
   "outputs": [],
   "source": [
    "columns_br01 = [\"br30_jool\",\"br30_gobgp\"]"
   ]
  },
  {
   "cell_type": "code",
   "execution_count": 59,
   "metadata": {},
   "outputs": [],
   "source": [
    "end_offset = end_time - start_time - 1 # 適当に-1秒する..."
   ]
  },
  {
   "cell_type": "code",
   "execution_count": 60,
   "metadata": {},
   "outputs": [
    {
     "data": {
      "text/plain": [
       "Text(0, 0.5, 'count of EAM')"
      ]
     },
     "execution_count": 60,
     "metadata": {},
     "output_type": "execute_result"
    },
    {
     "data": {
      "image/png": "[encoded data removed]",
      "text/plain": [
       "<Figure size 864x576 with 1 Axes>"
      ]
     },
     "metadata": {
      "needs_background": "light"
     },
     "output_type": "display_data"
    }
   ],
   "source": [
    "# グラフ作成\n",
    "fig = plt.figure(figsize=(12,8))\n",
    "\n",
    "ax = fig.add_subplot(111)\n",
    "#end_line = ax.axvline(end_offset, ls = \"-.\", color = \"blue\")\n",
    "#start_line = ax.axvline(0.1, ls = \"-.\", color = \"red\")\n",
    "#end_line.set_label(\"Time: neibor stopped\")\n",
    "#start_line.set_label(\"Time: neibor started\")\n",
    "make_sense_df[columns_br01].plot(ax=ax,style=\"-\")\n",
    "ax.legend(bbox_to_anchor=(1.4, 1), loc='upper right', borderaxespad=1,fontsize=10,ncol=2,)\n",
    "\n",
    "ax.set_xlabel(\"time(sec)\")\n",
    "ax.set_ylabel(\"count of EAM\")\n"
   ]
  },
  {
   "cell_type": "code",
   "execution_count": null,
   "metadata": {},
   "outputs": [],
   "source": []
  },
  {
   "cell_type": "code",
   "execution_count": null,
   "metadata": {},
   "outputs": [],
   "source": []
  }
 ],
 "metadata": {
  "kernelspec": {
   "display_name": "Python 3",
   "language": "python",
   "name": "python3"
  },
  "language_info": {
   "codemirror_mode": {
    "name": "ipython",
    "version": 3
   },
   "file_extension": ".py",
   "mimetype": "text/x-python",
   "name": "python",
   "nbconvert_exporter": "python",
   "pygments_lexer": "ipython3",
   "version": "3.7.5"
  }
 },
 "nbformat": 4,
 "nbformat_minor": 2
}
